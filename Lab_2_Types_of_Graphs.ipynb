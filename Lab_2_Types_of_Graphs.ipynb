{
  "nbformat": 4,
  "nbformat_minor": 0,
  "metadata": {
    "colab": {
      "name": "Lab 2 - Types of Graphs",
      "provenance": [],
      "include_colab_link": true
    },
    "kernelspec": {
      "name": "python3",
      "display_name": "Python 3"
    }
  },
  "cells": [
    {
      "cell_type": "markdown",
      "metadata": {
        "id": "view-in-github",
        "colab_type": "text"
      },
      "source": [
        "<a href=\"https://colab.research.google.com/github/kvf2222/Lab2/blob/master/Lab_2_Types_of_Graphs.ipynb\" target=\"_parent\"><img src=\"https://colab.research.google.com/assets/colab-badge.svg\" alt=\"Open In Colab\"/></a>"
      ]
    },
    {
      "cell_type": "markdown",
      "metadata": {
        "id": "6sOc4Uyr4U-Z",
        "colab_type": "text"
      },
      "source": [
        "## Graph Types"
      ]
    },
    {
      "cell_type": "markdown",
      "metadata": {
        "id": "0zZdVLAd5CYr",
        "colab_type": "text"
      },
      "source": [
        "Creator\n",
        "* Kevin Fatzinger\n"
      ]
    },
    {
      "cell_type": "markdown",
      "metadata": {
        "id": "g-r6Clq45Hn4",
        "colab_type": "text"
      },
      "source": [
        "### Deviation\n"
      ]
    },
    {
      "cell_type": "markdown",
      "metadata": {
        "id": "2gorxo6E7A0t",
        "colab_type": "text"
      },
      "source": [
        "![alt text](https://raw.githubusercontent.com/kvf2222/Lab2/master/2nd%20attempt.png)\n",
        "\n",
        "\n"
      ]
    },
    {
      "cell_type": "markdown",
      "metadata": {
        "id": "w6bZ_NEi7E3w",
        "colab_type": "text"
      },
      "source": [
        "#### What is this telling us?"
      ]
    },
    {
      "cell_type": "markdown",
      "metadata": {
        "id": "95L-spaC7QHF",
        "colab_type": "text"
      },
      "source": [
        "Diverging bars are used to show the highs and lows of the winning points by showing positive winning values above the average and the losing ones below. I chose varying shades of orange and blue so that the separation would be more obvious for the viewer, as well as show the larger variations in scores. \n"
      ]
    },
    {
      "cell_type": "markdown",
      "metadata": {
        "id": "YgXyXjmz7cDP",
        "colab_type": "text"
      },
      "source": [
        "### Correlation\n"
      ]
    },
    {
      "cell_type": "markdown",
      "metadata": {
        "id": "SGx15rZq7hvt",
        "colab_type": "text"
      },
      "source": [
        "![alt text](https://raw.githubusercontent.com/kvf2222/Lab2/master/Correlations.png)"
      ]
    },
    {
      "cell_type": "markdown",
      "metadata": {
        "id": "dljjONNi7jmj",
        "colab_type": "text"
      },
      "source": [
        "#### What is this telling us?"
      ]
    },
    {
      "cell_type": "markdown",
      "metadata": {
        "id": "PwZEZrFB7laG",
        "colab_type": "text"
      },
      "source": [
        "Correlation is used to show the relationship between the scores of the winning and losing regions. Again there seems to be a fairness of the distribution of points in the regions.  I wanted to use a scatter plot for this, however this graph was the hardest to create.  I would have preferred to have one graph with a line in the middle of the data points. \n"
      ]
    },
    {
      "cell_type": "markdown",
      "metadata": {
        "id": "MqUdI-uL7r2s",
        "colab_type": "text"
      },
      "source": [
        "### Ranking\n"
      ]
    },
    {
      "cell_type": "markdown",
      "metadata": {
        "id": "AvlxCOVt7x9F",
        "colab_type": "text"
      },
      "source": [
        "![alt text](https://raw.githubusercontent.com/kvf2222/Lab2/master/Rankings.png)"
      ]
    },
    {
      "cell_type": "markdown",
      "metadata": {
        "id": "lCAYtfza7yTq",
        "colab_type": "text"
      },
      "source": [
        "#### What is this telling us?"
      ]
    },
    {
      "cell_type": "markdown",
      "metadata": {
        "id": "MyuciD277ygU",
        "colab_type": "text"
      },
      "source": [
        "A bar graph was used to show the highest average winning points throughout the years. This graph has a low of 68.05 in 1985 and a high of 85.32 in the year 1989. The average was 77.01. I was able to create an average line to show just how close each year is to the average. Again, the overall consistency throughout the years is surprising to see. \n"
      ]
    },
    {
      "cell_type": "markdown",
      "metadata": {
        "id": "dGDGl8-G7y8Y",
        "colab_type": "text"
      },
      "source": [
        "### Distribution\n"
      ]
    },
    {
      "cell_type": "markdown",
      "metadata": {
        "id": "FB0uV-jy76p9",
        "colab_type": "text"
      },
      "source": [
        "![alt text](https://raw.githubusercontent.com/kvf2222/Lab2/master/distributions.png)"
      ]
    },
    {
      "cell_type": "markdown",
      "metadata": {
        "id": "_6SOzhrQ76zH",
        "colab_type": "text"
      },
      "source": [
        "#### What is this telling us?"
      ]
    },
    {
      "cell_type": "markdown",
      "metadata": {
        "id": "HBWqsS_g767h",
        "colab_type": "text"
      },
      "source": [
        "Lorem ipsum dolor sit amet, consectetur adipiscing elit. Nam iaculis, enim vel accumsan laoreet, mauris eros feugiat quam, sit amet tempor nibh mi id dolor. Fusce faucibus nisi magna, eu rhoncus felis pharetra non. Curabitur metus eros, eleifend sit amet vehicula et, porttitor non arcu. Suspendisse in mauris lacinia, efficitur lacus vel, eleifend est. Nullam id libero eu felis venenatis auctor quis in mi. Praesent lectus justo, vestibulum et mollis nec, elementum non risus. Vestibulum sit amet elit aliquam, ornare est vitae, dictum enim. Aliquam erat volutpat. Etiam rhoncus turpis quam. Etiam at neque vitae sem convallis suscipit ac varius."
      ]
    },
    {
      "cell_type": "markdown",
      "metadata": {
        "id": "wQsDThk677Fy",
        "colab_type": "text"
      },
      "source": [
        "### Change over Time\n"
      ]
    },
    {
      "cell_type": "markdown",
      "metadata": {
        "id": "Z1j_YLOA7_OK",
        "colab_type": "text"
      },
      "source": [
        "![alt text](https://raw.githubusercontent.com/kvf2222/Lab2/master/Change%20over%20times.png)"
      ]
    },
    {
      "cell_type": "markdown",
      "metadata": {
        "id": "mpfsmmgi7_Vj",
        "colab_type": "text"
      },
      "source": [
        "#### What is this telling us?"
      ]
    },
    {
      "cell_type": "markdown",
      "metadata": {
        "id": "rYLXoMMO7_di",
        "colab_type": "text"
      },
      "source": [
        "Lorem ipsum dolor sit amet, consectetur adipiscing elit. Nam iaculis, enim vel accumsan laoreet, mauris eros feugiat quam, sit amet tempor nibh mi id dolor. Fusce faucibus nisi magna, eu rhoncus felis pharetra non. Curabitur metus eros, eleifend sit amet vehicula et, porttitor non arcu. Suspendisse in mauris lacinia, efficitur lacus vel, eleifend est. Nullam id libero eu felis venenatis auctor quis in mi. Praesent lectus justo, vestibulum et mollis nec, elementum non risus. Vestibulum sit amet elit aliquam, ornare est vitae, dictum enim. Aliquam erat volutpat. Etiam rhoncus turpis quam. Etiam at neque vitae sem convallis suscipit ac varius."
      ]
    },
    {
      "cell_type": "markdown",
      "metadata": {
        "id": "lFwiHoE-7_jZ",
        "colab_type": "text"
      },
      "source": [
        "### Magnitude\n"
      ]
    },
    {
      "cell_type": "markdown",
      "metadata": {
        "id": "ICQFnXj78EbF",
        "colab_type": "text"
      },
      "source": [
        "![alt text](https://raw.githubusercontent.com/kvf2222/Lab2/master/Magnitude%20.png)"
      ]
    },
    {
      "cell_type": "markdown",
      "metadata": {
        "id": "QGG7XYG88Eii",
        "colab_type": "text"
      },
      "source": [
        "#### What is this telling us?"
      ]
    },
    {
      "cell_type": "markdown",
      "metadata": {
        "id": "VS7uGa0l8Eos",
        "colab_type": "text"
      },
      "source": [
        "Magnitude gives the viewer an opportunity to make comparisons of binned data. I showed the paired column of winning and losing match ups in 1985 to give a better feel for the teams and scores in one particular time frame. I chose orange for winning and blue for losing so that the viewer’s eye could easily glance at the wins and loses at once. \n"
      ]
    },
    {
      "cell_type": "markdown",
      "metadata": {
        "id": "bEKFxP8R8Evk",
        "colab_type": "text"
      },
      "source": [
        "### Part-to-Whole\n"
      ]
    },
    {
      "cell_type": "markdown",
      "metadata": {
        "id": "WFHlcYKV8E35",
        "colab_type": "text"
      },
      "source": [
        "![alt text](https://raw.githubusercontent.com/kvf2222/Lab2/master/Part%20of%20a%20whole.png)"
      ]
    },
    {
      "cell_type": "markdown",
      "metadata": {
        "id": "PNSd3wlp8UZH",
        "colab_type": "text"
      },
      "source": [
        "#### What is this telling us?"
      ]
    },
    {
      "cell_type": "markdown",
      "metadata": {
        "id": "y9tb_QRA8aqt",
        "colab_type": "text"
      },
      "source": [
        "Although we are warned against pie charts because they can be deceptive by often making the amounts similar, I decided to use  the pie chart because the data is so similar, considering the span of about 30 years of data. I really wanted to show this similarity, since I was really surprised to see how the total amount of points were very similar for each region. Percentage differences like 25.115%, 24.53%, 25.22%, and 25.14% shows that each region in the NCAA has had a fairly equal shot at winning the championship over the years. \n"
      ]
    }
  ]
}